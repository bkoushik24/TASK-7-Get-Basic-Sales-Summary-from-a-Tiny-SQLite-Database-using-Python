{
  "nbformat": 4,
  "nbformat_minor": 0,
  "metadata": {
    "colab": {
      "provenance": []
    },
    "kernelspec": {
      "name": "python3",
      "display_name": "Python 3"
    },
    "language_info": {
      "name": "python"
    }
  },
  "cells": [
    {
      "cell_type": "markdown",
      "source": [
        "**Step 1: Run SQL query to summarize sales:**"
      ],
      "metadata": {
        "id": "MG4YPYxtZRMO"
      }
    },
    {
      "cell_type": "code",
      "execution_count": 1,
      "metadata": {
        "id": "Ff4LN4AUZAih"
      },
      "outputs": [],
      "source": [
        "query = \"\"\"\n",
        "SELECT product,\n",
        "       SUM(quantity) AS total_qty,\n",
        "       SUM(quantity * price) AS revenue\n",
        "FROM sales\n",
        "GROUP BY product\n",
        "\"\"\""
      ]
    },
    {
      "cell_type": "markdown",
      "source": [
        "**Step 2: Load results into Pandas:**"
      ],
      "metadata": {
        "id": "7oOZE1M2ZcrL"
      }
    },
    {
      "cell_type": "code",
      "source": [
        "import sqlite3\n",
        "import pandas as pd\n",
        "import matplotlib.pyplot as plt\n",
        "\n",
        "# 1. Connect to (or create) the SQLite database\n",
        "conn = sqlite3.connect(\"sales_data.db\")\n",
        "cursor = conn.cursor()\n",
        "\n",
        "# 2. Create the sales table (only if it doesn't exist)\n",
        "cursor.execute(\"\"\"\n",
        "CREATE TABLE IF NOT EXISTS sales (\n",
        "    order_id INTEGER PRIMARY KEY,\n",
        "    product TEXT,\n",
        "    quantity INTEGER,\n",
        "    price REAL\n",
        ")\n",
        "\"\"\")\n",
        "\n",
        "# 3. Insert sample data (only if table is empty)\n",
        "cursor.execute(\"SELECT COUNT(*) FROM sales\")\n",
        "if cursor.fetchone()[0] == 0:\n",
        "    sample_data = [\n",
        "        (1, 'Product A', 10, 15.0),\n",
        "        (2, 'Product B', 5, 25.0),\n",
        "        (3, 'Product C', 8, 12.5),\n",
        "        (4, 'Product A', 4, 15.0),\n",
        "        (5, 'Product B', 7, 25.0),\n",
        "        (6, 'Product C', 3, 12.5)\n",
        "    ]\n",
        "    cursor.executemany(\"INSERT INTO sales VALUES (?, ?, ?, ?)\", sample_data)\n",
        "    conn.commit()\n",
        "\n",
        "# 4. Define the SQL query\n",
        "query = \"\"\"\n",
        "SELECT product,\n",
        "       SUM(quantity) AS total_qty,\n",
        "       SUM(quantity * price) AS revenue\n",
        "FROM sales\n",
        "GROUP BY product\n",
        "\"\"\"\n",
        "\n",
        "# 5. Run the query and load results into a DataFrame\n",
        "df = pd.read_sql_query(query, conn)\n",
        "\n",
        "# 6. Close the connection\n",
        "conn.close()\n",
        "\n",
        "# 7. Show the DataFrame\n",
        "print(df)\n",
        "\n",
        "# 8. Plot bar chart\n",
        "df.plot(kind='bar', x='product', y='revenue', legend=False, color='skyblue')\n",
        "plt.title(\"Revenue by Product\")\n",
        "plt.xlabel(\"Product\")\n",
        "plt.ylabel(\"Revenue\")\n",
        "plt.tight_layout()\n",
        "plt.show()\n"
      ],
      "metadata": {
        "colab": {
          "base_uri": "https://localhost:8080/",
          "height": 561
        },
        "id": "SjPimzs3agFI",
        "outputId": "27d86f7e-4e74-4cfe-d4c2-7d30b18b37ee"
      },
      "execution_count": 4,
      "outputs": [
        {
          "output_type": "stream",
          "name": "stdout",
          "text": [
            "     product  total_qty  revenue\n",
            "0  Product A         14    210.0\n",
            "1  Product B         12    300.0\n",
            "2  Product C         11    137.5\n"
          ]
        },
        {
          "output_type": "display_data",
          "data": {
            "text/plain": [
              "<Figure size 640x480 with 1 Axes>"
            ],
            "image/png": "[encoded data removed]"
          },
          "metadata": {}
        }
      ]
    }
  ]
}